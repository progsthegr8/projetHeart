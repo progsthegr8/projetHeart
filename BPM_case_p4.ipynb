{
  "nbformat": 4,
  "nbformat_minor": 0,
  "metadata": {
    "colab": {
      "name": "BPM case p4.ipynb",
      "provenance": [],
      "authorship_tag": "ABX9TyM4O2Ng3wOj66ZGTupRPlr+",
      "include_colab_link": true
    },
    "kernelspec": {
      "name": "python3",
      "display_name": "Python 3"
    },
    "language_info": {
      "name": "python"
    }
  },
  "cells": [
    {
      "cell_type": "markdown",
      "metadata": {
        "id": "view-in-github",
        "colab_type": "text"
      },
      "source": [
        "<a href=\"https://colab.research.google.com/github/progsthegr8/projetHeart/blob/main/BPM_case_p4.ipynb\" target=\"_parent\"><img src=\"https://colab.research.google.com/assets/colab-badge.svg\" alt=\"Open In Colab\"/></a>"
      ]
    },
    {
      "cell_type": "code",
      "metadata": {
        "id": "8ZW5oFYycfRo",
        "colab": {
          "base_uri": "https://localhost:8080/"
        },
        "outputId": "082b8db8-ca1b-4850-93bc-5732497afe9d"
      },
      "source": [
        "from google.colab import drive\n",
        "drive.mount('/content/drive')"
      ],
      "execution_count": null,
      "outputs": [
        {
          "output_type": "stream",
          "text": [
            "Drive already mounted at /content/drive; to attempt to forcibly remount, call drive.mount(\"/content/drive\", force_remount=True).\n"
          ],
          "name": "stdout"
        }
      ]
    },
    {
      "cell_type": "code",
      "metadata": {
        "id": "f_lCShUodcj9"
      },
      "source": [
        "import numpy as np\n",
        "import scipy.signal as spsig\n",
        "import scipy.fftpack as spfft\n",
        "import scipy.io.wavfile as spiow\n",
        "from scipy import fftpack as spfft\n",
        "import librosa ,librosa.display\n",
        "import math\n",
        "import IPython.display as ipd\n",
        "import matplotlib.pyplot as plt\n",
        "%matplotlib inline\n",
        "import glob\n",
        "from IPython.display import Audio, IFrame, display"
      ],
      "execution_count": null,
      "outputs": []
    },
    {
      "cell_type": "markdown",
      "metadata": {
        "id": "tlGrGRIK31Lq"
      },
      "source": [
        "Functions\n"
      ]
    },
    {
      "cell_type": "code",
      "metadata": {
        "id": "2XSLlsajzG9F"
      },
      "source": [
        "def bpm_to_hz(s):\n",
        "  return s*0.01666667\n",
        "\n",
        "def error(exp,thr):\n",
        "  return ((abs(exp-thr))/exp)*100\n",
        "\n",
        "def remove_brackets(s):\n",
        "  flat_list=[]\n",
        "  for element in s:\n",
        "    if type(element) is list:\n",
        "      for item in element:\n",
        "        flat_list.append(item)\n",
        "    else:\n",
        "      flat_list.append(element)\n",
        "  return flat_list\n",
        "\n"
      ],
      "execution_count": null,
      "outputs": []
    },
    {
      "cell_type": "markdown",
      "metadata": {
        "id": "a8Kao5Pd3_jR"
      },
      "source": [
        "File upload"
      ]
    },
    {
      "cell_type": "code",
      "metadata": {
        "id": "88QGIGEZdlV8"
      },
      "source": [
        "DATABASE_PATH=\"/content/drive/MyDrive/database\"\n",
        "\n",
        "Control=False #True if the patient is a 'Co', False if it is 'Ca'\n",
        "cas=[\"100\",\"11\",\"110\",\"12\",\"150\",\"151\",\"152\",\"153\",\"154\",\"156\",\"157\",\"158\",\"2\",\"23\",\"24\",\"26\",\"29\",\"85\"] # The id of the patient, for exemple '1'\n",
        "point=\"P4\"\n",
        "my_tempo=[]\n",
        "file_list=[]\n",
        "hop_length = 512\n",
        "if(Control):\n",
        "    FileName=DATABASE_PATH+\"/Contrôles/Centre 1/Pn_POA_Co\"+cas+\"/Pn_POA_Co\"+cas+\"_\"+point+\".wav\"\n",
        "    textPath=DATABASE_PATH+\"/Contrôles/Centre 1/Pn_POA_Co\"+cas+\"/Pn_POA_Co\"+cas+\"_\"+point+\".txt\"\n",
        "else:\n",
        "  for i in range (0,len(cas)):\n",
        "    FileName=glob.glob(DATABASE_PATH+\"/Cas/Centre 1/Pn_POA_Ca\"+cas[i]+\"/Pn_POA_Ca\"+cas[i]+\"_\"+point+\".wav\")\n",
        "    #textPath=DATABASE_PATH+\"/Cas/Centre 1/Pn_POA_Ca\"+cas+\"/Pn_POA_Ca\"+cas+\"_\"+point+\".txt\"\n",
        "    file_list.append(FileName)\n",
        "    print(FileName)\n",
        "    for fl in range(len(FileName)):\n",
        "      if(len(FileName)!=0):\n",
        "        s,sr  = librosa.load(FileName[fl])\n",
        "        onset_env = librosa.onset.onset_strength(s, sr=sr, hop_length=hop_length, n_fft=2048)\n",
        "        frames=range(len(onset_env))\n",
        "        t=librosa.frames_to_time(frames,sr=sr,hop_length=hop_length)\n",
        "        fig, ax = plt.subplots()\n",
        "        fig, ax1 = plt.subplots()\n",
        "        fig, ax2 = plt.subplots()\n",
        "        fig, ax3 = plt.subplots()\n",
        "\n",
        "        ax.plot(t,onset_env)\n",
        "        ax.set_xlim([0,t.max()])\n",
        "        ax.set_ylim(0)\n",
        "        ax.set(xlabel='Time (sec)')\n",
        "        ax.set_title(label='Novelty Function')\n",
        "\n",
        "\n",
        "        S=librosa.stft(onset_env,hop_length=1,n_fft=512)\n",
        "        fr_tempogram=np.absolute(S)\n",
        "\n",
        "        n0 = 100\n",
        "        n1 = 500\n",
        "        ax1.plot(t[n0:n1], onset_env[n0:n1])\n",
        "        ax1.set_xlim(t[n0], t[n1])\n",
        "        ax1.set(xlabel='Time (sec)')\n",
        "\n",
        "        #plotting autocorr of the segment\n",
        "\n",
        "        tmp = np.log1p(onset_env[n0:n1])\n",
        "        r = librosa.autocorrelate(tmp)\n",
        "\n",
        "        ax2.plot(t[:n1-n0], r)\n",
        "        ax2.set_xlim(t[0], t[n1-n0])\n",
        "        ax2.set_xlabel('Lag (sec)')\n",
        "        ax2.set_ylim(0)\n",
        "\n",
        "        ax3.plot(60/t[:n1-n0], r)\n",
        "        ax3.set_xlim([20, 200])\n",
        "        ax3.set_xlabel('Tempo (BPM)')\n",
        "        ax3.set_ylim(0)\n",
        "\n",
        "        plt.show()\n",
        "\n",
        "        librosa.display.specshow(fr_tempogram, sr=sr, hop_length=hop_length, x_axis='time')\n",
        "\n",
        "        tempogram = librosa.feature.tempogram(onset_envelope=onset_env, sr=sr, hop_length=hop_length, win_length=400)\n",
        "\n",
        "        tempo = librosa.beat.tempo(s, sr=sr)[0]\n",
        "        my_tempo.append(tempo)\n",
        "        a=plt.subplot()\n",
        "        a.axhline(tempo, color='w', linestyle='--', alpha=1,label='Estimated tempo={:g}'.format(tempo))\n",
        "        a.legend(loc='upper right')\n",
        "        librosa.display.specshow(tempogram, sr=sr, hop_length=hop_length, x_axis='time', y_axis='tempo',ax=a)\n",
        "        print(tempo,\"bpm\",\"=>\",bpm_to_hz(tempo),\"HZ\")\n",
        "\n",
        "\n",
        "\n"
      ],
      "execution_count": null,
      "outputs": []
    },
    {
      "cell_type": "code",
      "metadata": {
        "id": "5lWbjNN0qCTk"
      },
      "source": [
        "import pandas as pd\n",
        "my_error=[]\n",
        "for element in my_tempo:\n",
        "  k=error(element,150)\n",
        "  my_error.append(k)\n",
        "new_file_list=remove_brackets(file_list)\n",
        "zip_iterator=zip(new_file_list,my_tempo)\n",
        "patient_df=dict(zip_iterator)\n",
        "error_df=pd.DataFrame(my_error,columns=['error'])\n",
        "df=pd.DataFrame(patient_df.items(), columns=['patient', 'tempo'])\n",
        "frame=[df,error_df]\n",
        "result=pd.concat(frame,axis=1)\n",
        "print(result)\n"
      ],
      "execution_count": null,
      "outputs": []
    },
    {
      "cell_type": "markdown",
      "metadata": {
        "id": "eI_yP1W5u2Zr"
      },
      "source": [
        "IGNORE \n",
        "\n"
      ]
    },
    {
      "cell_type": "code",
      "metadata": {
        "id": "MCUqljfqh_qj"
      },
      "source": [
        "S=librosa.stft(onset_env,hop_length=1,n_fft=512)\n",
        "fr_tempogram=np.absolute(S)"
      ],
      "execution_count": null,
      "outputs": []
    },
    {
      "cell_type": "code",
      "metadata": {
        "id": "5qKfe1MZj0xW"
      },
      "source": [
        "librosa.display.specshow(fr_tempogram, sr=sr, hop_length=hop_length, x_axis='time')"
      ],
      "execution_count": null,
      "outputs": []
    },
    {
      "cell_type": "markdown",
      "metadata": {
        "id": "Ly_fxaDKkAKR"
      },
      "source": [
        "Autocorrelation Tempogram"
      ]
    },
    {
      "cell_type": "code",
      "metadata": {
        "id": "xWnBVl97kC7w"
      },
      "source": [
        "n0 = 100\n",
        "n1 = 500\n",
        "plt.plot(t[n0:n1], onset_env[n0:n1])\n",
        "plt.xlim(t[n0], t[n1])\n",
        "plt.xlabel('Time (sec)')\n",
        "plt.title('Novelty Function')"
      ],
      "execution_count": null,
      "outputs": []
    },
    {
      "cell_type": "code",
      "metadata": {
        "id": "GbH_zJOakHdc"
      },
      "source": [
        "#plotting autocorr of the segment\n",
        "tmp = np.log1p(onset_env[n0:n1])\n",
        "r = librosa.autocorrelate(tmp)"
      ],
      "execution_count": null,
      "outputs": []
    },
    {
      "cell_type": "code",
      "metadata": {
        "id": "JfPyppDVkLru"
      },
      "source": [
        "plt.plot(t[:n1-n0], r)\n",
        "plt.xlim(t[0], t[n1-n0])\n",
        "plt.xlabel('Lag (sec)')\n",
        "plt.ylim(0)"
      ],
      "execution_count": null,
      "outputs": []
    },
    {
      "cell_type": "code",
      "metadata": {
        "id": "aIEjq2eakVwo"
      },
      "source": [
        "plt.plot(60/t[:n1-n0], r)\n",
        "plt.xlim(20, 200)\n",
        "plt.xlabel('Tempo (BPM)')\n",
        "plt.ylim(0)"
      ],
      "execution_count": null,
      "outputs": []
    },
    {
      "cell_type": "code",
      "metadata": {
        "id": "8USHtCyDkaRr"
      },
      "source": [
        "tempogram = librosa.feature.tempogram(onset_envelope=onset_env, sr=sr, hop_length=hop_length, win_length=400)"
      ],
      "execution_count": null,
      "outputs": []
    },
    {
      "cell_type": "code",
      "metadata": {
        "id": "lRUUEOK0kcKV"
      },
      "source": [
        "tempo = librosa.beat.tempo(s, sr=sr)[0]\n",
        "a=plt.subplot()\n",
        "a.axhline(tempo, color='w', linestyle='--', alpha=1,\n",
        "            label='Estimated tempo={:g}'.format(tempo))\n",
        "a.legend(loc='upper right')\n",
        "librosa.display.specshow(tempogram, sr=sr, hop_length=hop_length, x_axis='time', y_axis='tempo',ax=a)\n"
      ],
      "execution_count": null,
      "outputs": []
    },
    {
      "cell_type": "code",
      "metadata": {
        "id": "SYfvAjyykhqM"
      },
      "source": [
        "print(tempo,\"bpm\",\"=>\",bpm_to_hz(tempo),\"HZ\")"
      ],
      "execution_count": null,
      "outputs": []
    },
    {
      "cell_type": "code",
      "metadata": {
        "id": "yCHCaRmpkpAu"
      },
      "source": [
        "def bpm_to_hz(s):\n",
        "  return s*0.01666667"
      ],
      "execution_count": null,
      "outputs": []
    },
    {
      "cell_type": "code",
      "metadata": {
        "id": "j4S7F1VD2-wn"
      },
      "source": [
        ""
      ],
      "execution_count": null,
      "outputs": []
    }
  ]
}